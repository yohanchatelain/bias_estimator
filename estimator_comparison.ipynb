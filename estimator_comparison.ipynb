{
 "cells": [
  {
   "cell_type": "code",
   "execution_count": 493,
   "metadata": {},
   "outputs": [],
   "source": [
    "import scipy.stats\n",
    "import numpy as np\n",
    "import plotly.express as px\n",
    "import chart_studio.plotly as py\n",
    "from plotly.offline import iplot\n",
    "\n",
    "confidence=0.95\n",
    "n_mca_samples=6\n",
    "n_voxels=5000"
   ]
  },
  {
   "cell_type": "code",
   "execution_count": 494,
   "metadata": {},
   "outputs": [],
   "source": [
    "def mean(x):\n",
    "    return np.mean(x)\n",
    "\n",
    "def var_biased(x):\n",
    "    '''\n",
    "    S^2_{n} = sum((X-mu)^2)/N\n",
    "    '''\n",
    "    _mean = mean(x)\n",
    "    _n = x.size\n",
    "    _diff = np.sum(np.square(x - _mean))\n",
    "    return _diff/_n\n",
    "\n",
    "def var_unbiased(x):\n",
    "    '''\n",
    "    S^2_{n-1} = sum((X-mu)^2)/(N-1)\n",
    "    '''\n",
    "    _mean = mean(x)\n",
    "    _n = x.size - 1\n",
    "    _diff = np.sum(np.square(x - _mean))\n",
    "    return _diff/_n\n",
    "\n",
    "def std_biased_1(x):\n",
    "    '''\n",
    "    std = sqrt( S^2_n )\n",
    "    '''\n",
    "    return np.sqrt(var_biased(x))\n",
    "\n",
    "def std_biased_2(x):\n",
    "    '''\n",
    "    std = sqrt( S^2_{n-1} )\n",
    "    '''\n",
    "    return np.sqrt(var_unbiased(x))\n",
    "\n",
    "def c4(n):\n",
    "    '''\n",
    "    c4(n) = sqrt(2/n-1) (gamma(n/2)/gamma(n-1/2))\n",
    "    '''\n",
    "    gamma = scipy.special.gamma\n",
    "    return np.sqrt(2/(n-1)) * (gamma(n/2)/gamma((n-1)/2))\n",
    "\n",
    "def std_unbiased(x):\n",
    "    '''\n",
    "    std = sqrt( S^2_{n-1} ) / c4(n)\n",
    "    '''\n",
    "    n = x.size\n",
    "    _std = std_biased_2(x)/c4(n)\n",
    "    return _std\n",
    "\n",
    "def is_interval(x, mean, std, confidence):\n",
    "    '''\n",
    "    Check x values are in interval\n",
    "    alpha = confidence\n",
    "    (mean - t_{alpha} * (std/sqrt(n)), mean - t_{alpha} * (std/sqrt(n) )\n",
    "    '''\n",
    "    n = x.size\n",
    "    coef_t = scipy.stats.t.interval(alpha=confidence, loc=mean, scale=std, df=n-1)\n",
    "    success = np.logical_and(coef_t[0] <= x, x <= coef_t[1])\n",
    "    return success\n",
    "\n",
    "def get_success(x, mean, std, confidence):\n",
    "    trials = x.size\n",
    "    success = is_interval(x, mean, std, confidence)\n",
    "    nb_success = np.count_nonzero(success)\n",
    "    nb_fail = trials - nb_success\n",
    "    return trials, nb_success, nb_fail\n",
    "    \n",
    "def draw_samples(n):\n",
    "    x = np.random.normal(size=n)\n",
    "    return x\n",
    "\n",
    "def test(n, std, confidence):    \n",
    "    x = draw_samples(n)\n",
    "    _mean = mean(x)\n",
    "    _std = std(x)\n",
    "    nb_trials, nb_success, nb_fail = get_success(x, _mean, _std, confidence)\n",
    "    return nb_success\n",
    "    \n",
    "def run(std, n_mca_samples, n_voxels, confidene):\n",
    "    np.random.seed(0)\n",
    "    nb_successes = [test(n_mca_samples, std, confidence) for i in range(n_voxels)]\n",
    "    per_succ = np.sum(nb_successes)/(n_voxels*n_mca_samples) * 100\n",
    "    return per_succ\n",
    "\n",
    "def plot(ratio, title):\n",
    "    histo = px.histogram(ratio, nbins=100, histnorm='percent', range_x=(0,100))\n",
    "    histo.update_layout(title=title)\n",
    "    histo.update_xaxes(title='% Success')\n",
    "    return histo\n"
   ]
  },
  {
   "cell_type": "code",
   "execution_count": null,
   "metadata": {},
   "outputs": [],
   "source": []
  },
  {
   "cell_type": "code",
   "execution_count": 495,
   "metadata": {},
   "outputs": [
    {
     "name": "stdout",
     "output_type": "stream",
     "text": [
      "Test std_biased_1 for confidence (0.95)\n",
      "n_voxels: 5000, n_mca_samples:   6, success ratio: 100.00%\n",
      "n_voxels: 5000, n_mca_samples:  10, success ratio: 98.76%\n",
      "n_voxels: 5000, n_mca_samples:  30, success ratio: 96.11%\n",
      "n_voxels: 5000, n_mca_samples: 100, success ratio: 95.29%\n"
     ]
    }
   ],
   "source": [
    "print(f'Test std_biased_1 for confidence ({confidence})')\n",
    "for n_mca_samples in [6, 10, 30, 100]:\n",
    "    ratio = run(std_biased_1, n_mca_samples, n_voxels, confidence)\n",
    "    print(f'n_voxels: {n_voxels}, n_mca_samples: {n_mca_samples:3}, success ratio: {ratio:.2f}%')"
   ]
  },
  {
   "cell_type": "code",
   "execution_count": 496,
   "metadata": {},
   "outputs": [
    {
     "name": "stdout",
     "output_type": "stream",
     "text": [
      "Test std_biased_2 for confidence (0.95)\n",
      "n_voxels: 5000, n_mca_samples:   6, success ratio: 100.00%\n",
      "n_voxels: 5000, n_mca_samples:  10, success ratio: 99.38%\n",
      "n_voxels: 5000, n_mca_samples:  30, success ratio: 96.48%\n",
      "n_voxels: 5000, n_mca_samples: 100, success ratio: 95.40%\n"
     ]
    }
   ],
   "source": [
    "print(f'Test std_biased_2 for confidence ({confidence})')\n",
    "for n_mca_samples in [6, 10, 30, 100]:\n",
    "    ratio = run(std_biased_2, n_mca_samples, n_voxels, confidence)\n",
    "    print(f'n_voxels: {n_voxels}, n_mca_samples: {n_mca_samples:3}, success ratio: {ratio:.2f}%')"
   ]
  },
  {
   "cell_type": "code",
   "execution_count": 497,
   "metadata": {},
   "outputs": [
    {
     "name": "stdout",
     "output_type": "stream",
     "text": [
      "Test std_unbiased for confidence (0.95)\n",
      "n_voxels: 5000, n_mca_samples:   6, success ratio: 100.00%\n",
      "n_voxels: 5000, n_mca_samples:  10, success ratio: 99.61%\n",
      "n_voxels: 5000, n_mca_samples:  30, success ratio: 96.67%\n",
      "n_voxels: 5000, n_mca_samples: 100, success ratio: 95.46%\n"
     ]
    }
   ],
   "source": [
    "print(f'Test std_unbiased for confidence ({confidence})')\n",
    "for n_mca_samples in [6, 10, 30, 100]:\n",
    "    ratio = run(std_unbiased, n_mca_samples, n_voxels, confidence)\n",
    "    print(f'n_voxels: {n_voxels}, n_mca_samples: {n_mca_samples:3}, success ratio: {ratio:.2f}%')\n",
    "    "
   ]
  }
 ],
 "metadata": {
  "kernelspec": {
   "display_name": "Python 3 (ipykernel)",
   "language": "python",
   "name": "python3"
  },
  "language_info": {
   "codemirror_mode": {
    "name": "ipython",
    "version": 3
   },
   "file_extension": ".py",
   "mimetype": "text/x-python",
   "name": "python",
   "nbconvert_exporter": "python",
   "pygments_lexer": "ipython3",
   "version": "3.8.10"
  },
  "widgets": {
   "application/vnd.jupyter.widget-state+json": {
    "state": {},
    "version_major": 2,
    "version_minor": 0
   }
  }
 },
 "nbformat": 4,
 "nbformat_minor": 4
}
